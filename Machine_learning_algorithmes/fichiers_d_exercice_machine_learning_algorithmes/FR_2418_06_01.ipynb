{
 "cells": [
  {
   "cell_type": "markdown",
   "metadata": {},
   "source": [
    "# Les données Iris"
   ]
  },
  {
   "cell_type": "code",
   "execution_count": null,
   "metadata": {},
   "outputs": [],
   "source": [
    "from sklearn.datasets import load_iris \n",
    "irisData = load_iris()"
   ]
  },
  {
   "cell_type": "code",
   "execution_count": null,
   "metadata": {},
   "outputs": [],
   "source": [
    "print(irisData.DESCR)"
   ]
  },
  {
   "cell_type": "code",
   "execution_count": null,
   "metadata": {},
   "outputs": [],
   "source": [
    "print(irisData.data)"
   ]
  },
  {
   "cell_type": "code",
   "execution_count": null,
   "metadata": {},
   "outputs": [],
   "source": [
    "print(irisData.target)"
   ]
  },
  {
   "cell_type": "markdown",
   "metadata": {},
   "source": [
    "# Visualiser les données avec un graphique"
   ]
  },
  {
   "cell_type": "code",
   "execution_count": null,
   "metadata": {},
   "outputs": [],
   "source": [
    "from matplotlib import pyplot as plt #remplace le nom \"pyplot\" by \"plt\" \n",
    "\n",
    "X = irisData.data\n",
    "Y = irisData.target\n",
    "\n",
    "abscisse = 0\n",
    "ordonnee = 1\n",
    "\n",
    "plt.xlabel(irisData.feature_names[abscisse])\n",
    "plt.ylabel(irisData.feature_names[ordonnee])\n",
    "for i in range(3):\n",
    "    plt.scatter(X[Y==i][:, abscisse],X[Y==i][:,ordonnee],label=irisData.target_names[i])\n",
    "plt.legend()\n",
    "plt.show()"
   ]
  },
  {
   "cell_type": "markdown",
   "metadata": {},
   "source": [
    "# Naive Bayes"
   ]
  },
  {
   "cell_type": "code",
   "execution_count": null,
   "metadata": {},
   "outputs": [],
   "source": [
    "from sklearn.naive_bayes import GaussianNB\n",
    "naive_bayes = GaussianNB()\n",
    "naive_bayes.fit(X,Y)\n",
    "Y_predit = naive_bayes.predict(X)\n",
    "\n",
    "print(len(X[Y != Y_predit]), \"observations sont mal classées sur un total de \", len(X))"
   ]
  },
  {
   "cell_type": "markdown",
   "metadata": {},
   "source": [
    "## Visualisation des Iris mal classés par le modèle Naïf Bayes"
   ]
  },
  {
   "cell_type": "code",
   "execution_count": null,
   "metadata": {},
   "outputs": [],
   "source": [
    "abscisse = 2\n",
    "ordonnee = 3\n",
    "\n",
    "plt.xlabel(irisData.feature_names[abscisse])\n",
    "plt.ylabel(irisData.feature_names[ordonnee])\n",
    "for i in range(3):\n",
    "    plt.scatter(X[Y==i][:, abscisse],X[Y==i][:,ordonnee],label=irisData.target_names[i])\n",
    "    \n",
    "plt.scatter(X[Y != Y_predit][:, abscisse],X[Y != Y_predit][:,ordonnee],color='black')\n",
    "plt.legend()\n",
    "plt.show()"
   ]
  },
  {
   "cell_type": "markdown",
   "metadata": {},
   "source": [
    "# K plus proches voisins"
   ]
  },
  {
   "cell_type": "code",
   "execution_count": null,
   "metadata": {},
   "outputs": [],
   "source": [
    "from sklearn.neighbors import KNeighborsClassifier\n",
    "kppv = KNeighborsClassifier(n_neighbors=7)\n",
    "kppv.fit(X,Y)\n",
    "Y_predit = kppv.predict(X)\n",
    "\n",
    "print(len(X[Y != Y_predit]), \"observations sont mal classées sur un total de \", len(X))"
   ]
  },
  {
   "cell_type": "markdown",
   "metadata": {},
   "source": [
    "## Visualisation des Iris mal classés par le modèle kppv"
   ]
  },
  {
   "cell_type": "code",
   "execution_count": null,
   "metadata": {},
   "outputs": [],
   "source": [
    "plt.xlabel(irisData.feature_names[abscisse])\n",
    "plt.ylabel(irisData.feature_names[ordonnee])\n",
    "for i in range(3):\n",
    "    plt.scatter(X[Y==i][:, abscisse],X[Y==i][:,ordonnee],label=irisData.target_names[i])\n",
    "    \n",
    "plt.scatter(X[Y != Y_predit][:, abscisse],X[Y != Y_predit][:,ordonnee],color='black')\n",
    "plt.legend()\n",
    "plt.show()"
   ]
  },
  {
   "cell_type": "markdown",
   "metadata": {},
   "source": [
    "# Arbre de décision"
   ]
  },
  {
   "cell_type": "code",
   "execution_count": null,
   "metadata": {},
   "outputs": [],
   "source": [
    "from sklearn.tree import DecisionTreeClassifier\n",
    "arbre_decision = DecisionTreeClassifier()\n",
    "arbre_decision.fit(X,Y)\n",
    "Y_predit = arbre_decision.predict(X)\n",
    "\n",
    "print(len(X[Y != Y_predit]), \"observations sont mal classées sur un total de \", len(X))"
   ]
  },
  {
   "cell_type": "markdown",
   "metadata": {},
   "source": [
    "# Visualisation de l'arbre de décision"
   ]
  },
  {
   "cell_type": "code",
   "execution_count": null,
   "metadata": {},
   "outputs": [],
   "source": [
    "from sklearn.tree import export_graphviz\n",
    "export_graphviz(arbre_decision, out_file='arbre_decision.dot', feature_names = irisData.feature_names,\n",
    "                class_names = irisData.target_names)"
   ]
  },
  {
   "cell_type": "code",
   "execution_count": null,
   "metadata": {},
   "outputs": [],
   "source": [
    "!dot -Tpng arbre_decision.dot -o arbre_decision.png -Gdpi=600"
   ]
  },
  {
   "cell_type": "code",
   "execution_count": null,
   "metadata": {},
   "outputs": [],
   "source": [
    "from IPython.display import Image\n",
    "Image(filename = 'arbre_decision.png')"
   ]
  }
 ],
 "metadata": {
  "kernelspec": {
   "display_name": "Python 3",
   "language": "python",
   "name": "python3"
  },
  "language_info": {
   "codemirror_mode": {
    "name": "ipython",
    "version": 3
   },
   "file_extension": ".py",
   "mimetype": "text/x-python",
   "name": "python",
   "nbconvert_exporter": "python",
   "pygments_lexer": "ipython3",
   "version": "3.5.6"
  }
 },
 "nbformat": 4,
 "nbformat_minor": 2
}
