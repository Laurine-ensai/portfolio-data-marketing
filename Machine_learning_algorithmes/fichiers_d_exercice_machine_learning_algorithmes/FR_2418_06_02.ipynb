{
 "cells": [
  {
   "cell_type": "markdown",
   "metadata": {},
   "source": [
    "# Charger et mettre en forme les données à partir d'un fichier csv"
   ]
  },
  {
   "cell_type": "code",
   "execution_count": null,
   "metadata": {},
   "outputs": [],
   "source": [
    "import pandas \n",
    "\n",
    "noms = ['seismic','seismoacoustic','shift','genergy','gpuls','gdenergy','gdpuls','ghazard','nbumps','nbumps2','nbumps3', 'nbumps4','nbumps5','nbumps6','nbumps7','nbumps89','energy','maxenergy','class']\n",
    "dataframe = pandas.read_csv('seismic-bumps.csv', names = noms)\n",
    "dataframe"
   ]
  },
  {
   "cell_type": "code",
   "execution_count": null,
   "metadata": {},
   "outputs": [],
   "source": [
    "donnees = dataframe.values\n",
    "d = donnees[:, 0:18]\n",
    "t = donnees[:, 18]"
   ]
  },
  {
   "cell_type": "markdown",
   "metadata": {},
   "source": [
    "# Transformer les attributs catégoriels en un ensemble de variables binaires"
   ]
  },
  {
   "cell_type": "code",
   "execution_count": null,
   "metadata": {},
   "outputs": [],
   "source": [
    "import numpy as np\n",
    "\n",
    "def binarisation(d, indice, valeurs):\n",
    "    B = np.zeros((len(d), len(valeurs)))\n",
    "    for i in range(len(d)):\n",
    "        for v in range(len(valeurs)):\n",
    "            if(d[i,indice] == valeurs[v]):\n",
    "                B[i,v] = 1\n",
    "    return B \n",
    "\n",
    "\n",
    "A0 = binarisation(d, 0,['a','b','c','d'])\n",
    "A1 = binarisation(d, 1,['a','b','c','d'])\n",
    "A2 = binarisation(d, 2,['W','N'])\n",
    "A7 = binarisation(d, 7,['a','b','c','d'])\n",
    "\n",
    "X = np.concatenate((A0, A1, A2, d[:,3:7],A7, d[:,8:18]), axis=1)\n",
    "Y = t.astype('int')"
   ]
  },
  {
   "cell_type": "code",
   "execution_count": null,
   "metadata": {},
   "outputs": [],
   "source": [
    "pandas.DataFrame(data = X)"
   ]
  },
  {
   "cell_type": "markdown",
   "metadata": {},
   "source": [
    "# Données deséquilibrées"
   ]
  },
  {
   "cell_type": "code",
   "execution_count": null,
   "metadata": {},
   "outputs": [],
   "source": [
    "len(X[Y == 0]), len(X[Y == 1])"
   ]
  },
  {
   "cell_type": "markdown",
   "metadata": {},
   "source": [
    "# Ajustement du modèle baseline où l'on prédit toujours la classe 0"
   ]
  },
  {
   "cell_type": "code",
   "execution_count": null,
   "metadata": {},
   "outputs": [],
   "source": [
    "len(X[Y == 0])/ (len(X[Y == 1]) + len(X[Y == 0]))"
   ]
  },
  {
   "cell_type": "markdown",
   "metadata": {},
   "source": [
    "# Apprentissage du modèle"
   ]
  },
  {
   "cell_type": "code",
   "execution_count": null,
   "metadata": {},
   "outputs": [],
   "source": [
    "import random \n",
    "from sklearn.model_selection import train_test_split \n",
    "X_train, X_test, Y_train, Y_test = train_test_split(X, Y, test_size = 0.3, random_state = random.seed()) "
   ]
  },
  {
   "cell_type": "code",
   "execution_count": null,
   "metadata": {},
   "outputs": [],
   "source": [
    "from sklearn.ensemble import RandomForestClassifier\n",
    "modele = RandomForestClassifier(n_estimators = 10)\n",
    "modele.fit(X_train, Y_train)\n",
    "Y_predit = modele.predict(X_test)"
   ]
  },
  {
   "cell_type": "code",
   "execution_count": null,
   "metadata": {},
   "outputs": [],
   "source": [
    "from sklearn.metrics import accuracy_score\n",
    "accuracy_score(Y_test, Y_predit)  "
   ]
  },
  {
   "cell_type": "code",
   "execution_count": null,
   "metadata": {},
   "outputs": [],
   "source": [
    "accuracy"
   ]
  },
  {
   "cell_type": "code",
   "execution_count": null,
   "metadata": {},
   "outputs": [],
   "source": [
    "from sklearn.metrics import confusion_matrix\n",
    "confusion_matrix(Y_test, Y_predit)"
   ]
  },
  {
   "cell_type": "code",
   "execution_count": null,
   "metadata": {},
   "outputs": [],
   "source": [
    "from sklearn.metrics import f1_score\n",
    "f1_score(Y_test, Y_predit)"
   ]
  },
  {
   "cell_type": "markdown",
   "metadata": {},
   "source": [
    "# Sous-échantillonnage de la classe majoritaire et sur-pondération"
   ]
  },
  {
   "cell_type": "code",
   "execution_count": null,
   "metadata": {},
   "outputs": [],
   "source": [
    "nbs = 170\n",
    "from sklearn.utils import resample\n",
    "echantillon_majorite = resample(X[Y == 0], \n",
    "                                 replace = False,    # echantillon sans remise\n",
    "                                 n_samples = nbs,    # pour en avoir autant que dans la classe minoritaire\n",
    "                                 random_state = random.seed()) \n",
    "# On combine la classe minoritaire avec le sous-echantillon de la classe majoritaire\n",
    "X1 = np.concatenate((echantillon_majorite, X[Y == 1]), axis = 0)\n",
    "Y1 = np.concatenate((np.zeros(nbs), np.ones(170)), axis = 0)"
   ]
  },
  {
   "cell_type": "code",
   "execution_count": null,
   "metadata": {},
   "outputs": [],
   "source": [
    "X1_train, X1_test, Y1_train, Y1_test = train_test_split(X1, Y1, test_size = 0.3, random_state = random.seed()) \n",
    "    \n",
    "modele.fit(X1_train, Y1_train)\n",
    "Y1_predit = modele.predict(X1_test)"
   ]
  },
  {
   "cell_type": "code",
   "execution_count": null,
   "metadata": {},
   "outputs": [],
   "source": [
    "f1_score(Y1_test, Y1_predit)"
   ]
  },
  {
   "cell_type": "code",
   "execution_count": null,
   "metadata": {},
   "outputs": [],
   "source": [
    "confusion_matrix(Y1_test, Y1_predit)"
   ]
  },
  {
   "cell_type": "markdown",
   "metadata": {},
   "source": [
    "# Surpondération de la classe sous-échantillonnée"
   ]
  },
  {
   "cell_type": "code",
   "execution_count": null,
   "metadata": {},
   "outputs": [],
   "source": [
    "poids = (2414  / nbs)\n",
    "p = (1-Y1_test) * poids\n",
    "p = p + Y1_test\n",
    "f1_score(Y1_test, Y1_predit, sample_weight = p)"
   ]
  },
  {
   "cell_type": "code",
   "execution_count": null,
   "metadata": {},
   "outputs": [],
   "source": [
    "confusion_matrix(Y1_test, Y1_predit, sample_weight = p)"
   ]
  },
  {
   "cell_type": "code",
   "execution_count": null,
   "metadata": {},
   "outputs": [],
   "source": []
  }
 ],
 "metadata": {
  "kernelspec": {
   "display_name": "Python 3",
   "language": "python",
   "name": "python3"
  },
  "language_info": {
   "codemirror_mode": {
    "name": "ipython",
    "version": 3
   },
   "file_extension": ".py",
   "mimetype": "text/x-python",
   "name": "python",
   "nbconvert_exporter": "python",
   "pygments_lexer": "ipython3",
   "version": "3.5.6"
  }
 },
 "nbformat": 4,
 "nbformat_minor": 2
}
